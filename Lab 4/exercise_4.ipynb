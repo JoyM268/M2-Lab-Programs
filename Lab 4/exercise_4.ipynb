{
 "cells": [
  {
   "cell_type": "code",
   "execution_count": 1,
   "metadata": {},
   "outputs": [
    {
     "name": "stdout",
     "output_type": "stream",
     "text": [
      "iteration 1  \t  the root 2.489  \t  function value 12.950\n",
      "\n",
      "iteration 2  \t  the root 2.198  \t  function value 2.934\n",
      "\n",
      "iteration 3  \t  the root 2.081  \t  function value 0.373\n",
      "\n",
      "iteration 4  \t  the root 2.061  \t  function value 0.010\n",
      "\n",
      "iteration 5  \t  the root 2.061  \t  function value 0.000\n",
      "\n",
      "iteration 6  \t  the root 2.061  \t  function value 0.000\n",
      "\n",
      "iteration 7  \t  the root 2.061  \t  function value 0.000\n",
      "\n"
     ]
    }
   ],
   "source": [
    "#Obtain a real positive root of x^4 + x^3 - 7x^2 - x + 5 = 0, near 3, by Newton Raphson Method, Perform 7 iterations.\n",
    "from sympy import *\n",
    "x = Symbol('x')\n",
    "g = input('Enter the function  ')\n",
    "f = lambdify(x, g)\n",
    "dg = diff(g);\n",
    "df = lambdify(x, dg)\n",
    "x0 = float(input('Enter the initial approximation  '));\n",
    "n = int(input('Enter the number of iterations  '));\n",
    "for i in range(1, n + 1):\n",
    "    x1 = (x0 - (f(x0)/df(x0)))\n",
    "    print('iteration %d  \\t  the root %0.3f  \\t  function value %0.3f\\n' %(i, x1, f(x1)));\n",
    "    x0 = x1"
   ]
  }
 ],
 "metadata": {
  "kernelspec": {
   "display_name": "Python 3",
   "language": "python",
   "name": "python3"
  },
  "language_info": {
   "codemirror_mode": {
    "name": "ipython",
    "version": 3
   },
   "file_extension": ".py",
   "mimetype": "text/x-python",
   "name": "python",
   "nbconvert_exporter": "python",
   "pygments_lexer": "ipython3",
   "version": "3.11.4"
  },
  "orig_nbformat": 4
 },
 "nbformat": 4,
 "nbformat_minor": 2
}

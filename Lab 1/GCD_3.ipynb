{
 "cells": [
  {
   "cell_type": "code",
   "execution_count": 1,
   "metadata": {},
   "outputs": [
    {
     "name": "stdout",
     "output_type": "stream",
     "text": [
      "8 0\n",
      "GCD =  8\n"
     ]
    }
   ],
   "source": [
    "#Prove that 8 divides 128\n",
    "def gcd1(a, b):\n",
    "    c = 1\n",
    "    if b < a:\n",
    "        t = b\n",
    "        b = a\n",
    "        a = t\n",
    "    while (c > 0):\n",
    "        c = b%a\n",
    "        print(a, c)\n",
    "        b = a\n",
    "        a = c\n",
    "        continue\n",
    "    print('GCD = ', b)\n",
    "gcd1(8,128)"
   ]
  }
 ],
 "metadata": {
  "kernelspec": {
   "display_name": "Python 3",
   "language": "python",
   "name": "python3"
  },
  "language_info": {
   "codemirror_mode": {
    "name": "ipython",
    "version": 3
   },
   "file_extension": ".py",
   "mimetype": "text/x-python",
   "name": "python",
   "nbconvert_exporter": "python",
   "pygments_lexer": "ipython3",
   "version": "3.11.3"
  },
  "orig_nbformat": 4
 },
 "nbformat": 4,
 "nbformat_minor": 2
}

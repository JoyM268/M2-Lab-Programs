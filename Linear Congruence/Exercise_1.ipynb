{
 "cells": [
  {
   "cell_type": "code",
   "execution_count": 1,
   "metadata": {},
   "outputs": [
    {
     "name": "stdout",
     "output_type": "stream",
     "text": [
      "#Find the solution of the congruence 12x ≡ 6(mod 23)\n",
      "enter integer a 12\n",
      "enter integer b 6\n",
      "enter integer m 23\n",
      "the solution of the congruence is  12.0\n"
     ]
    }
   ],
   "source": [
    "from sympy import *\n",
    "from math import *\n",
    "a = int(input('enter integer a '));\n",
    "b = int(input('enter integer b '));\n",
    "m = int(input('enter integer m '));\n",
    "d = gcd(a, m)\n",
    "if (b % d != 0):\n",
    "    print('the congruence has no integer solution');\n",
    "else:\n",
    "    for i in range(1, m -1):\n",
    "        x = (m/a) * i + (b/a)\n",
    "        if(x // 1 == x):\n",
    "            print('the solution of the congruence is ', x)\n",
    "            break"
   ]
  }
 ],
 "metadata": {
  "kernelspec": {
   "display_name": "Python 3",
   "language": "python",
   "name": "python3"
  },
  "language_info": {
   "codemirror_mode": {
    "name": "ipython",
    "version": 3
   },
   "file_extension": ".py",
   "mimetype": "text/x-python",
   "name": "python",
   "nbconvert_exporter": "python",
   "pygments_lexer": "ipython3",
   "version": "3.11.3"
  },
  "orig_nbformat": 4
 },
 "nbformat": 4,
 "nbformat_minor": 2
}

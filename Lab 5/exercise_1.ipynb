{
 "cells": [
  {
   "cell_type": "code",
   "execution_count": 1,
   "metadata": {},
   "outputs": [
    {
     "name": "stdout",
     "output_type": "stream",
     "text": [
      "Enter number of data points:  4\n",
      "Enter data for x and y:  \n",
      "x[0] = 0\n",
      "y[0] = 1\n",
      "x[1] = 1\n",
      "y[1] = 2\n",
      "x[2] = 2\n",
      "y[2] = 1\n",
      "x[3] = 3\n",
      "y[3] = 10\n",
      "\n",
      "DIFFERENCE TABLE\n",
      "\n",
      "0.00\t\t1.00\t\t1.00\t\t-2.00\t\t12.00\n",
      "1.00\t\t2.00\t\t-1.00\t\t10.00\n",
      "2.00\t\t1.00\t\t9.00\n",
      "3.00\t\t10.00\n",
      "\n",
      "THE INTERPOLATING POLYNOMIAL IS\n",
      "\n",
      "     3        2              \n",
      "2.0⋅t  - 7.0⋅t  + 6.0⋅t + 1.0\n"
     ]
    }
   ],
   "source": [
    "#Obtain the interpolating polynomial for the following data\n",
    "# x: 0  1   2   3\n",
    "# y: 1  2   1   10\n",
    "from sympy import *\n",
    "import numpy as np\n",
    "n = int(input('Enter number of data points:  '))\n",
    "x = np.zeros((n))\n",
    "y = np.zeros((n, n))\n",
    "\n",
    "print('Enter data for x and y:  ')\n",
    "for i in range(n):\n",
    "    x[i] = float(input('x[' + str(i) + '] = '))\n",
    "    y[i][0] = float(input('y[' + str(i) + '] = '))\n",
    "\n",
    "for i in range(1, n):\n",
    "    for j in range(0, n - i):\n",
    "        y[j][i] = y[j + 1][i - 1] - y[j][i - 1]\n",
    "\n",
    "print('\\nDIFFERENCE TABLE\\n');\n",
    "\n",
    "for i in range(0, n):\n",
    "    print('%0.2f' %(x[i]), end = '')\n",
    "    for j in range(0, n - i):\n",
    "        print('\\t\\t%0.2f' %(y[i][j]), end = '')\n",
    "    print()\n",
    "t = symbols('t')\n",
    "f = []\n",
    "\n",
    "p = (t - x[0])/(x[1] - x[0])\n",
    "f.append(p)\n",
    "for i in range(1, n - 1):\n",
    "    f.append(f[i - 1]*(p - i)/(i + 1))\n",
    "    poly = y[0][0]\n",
    "for i in range(n - 1):\n",
    "    poly = poly + y[0][i + 1]*f[i]\n",
    "simp_poly = simplify(poly)\n",
    "print('\\nTHE INTERPOLATING POLYNOMIAL IS\\n');\n",
    "pprint(simp_poly)"
   ]
  }
 ],
 "metadata": {
  "kernelspec": {
   "display_name": "Python 3",
   "language": "python",
   "name": "python3"
  },
  "language_info": {
   "codemirror_mode": {
    "name": "ipython",
    "version": 3
   },
   "file_extension": ".py",
   "mimetype": "text/x-python",
   "name": "python",
   "nbconvert_exporter": "python",
   "pygments_lexer": "ipython3",
   "version": "3.11.4"
  },
  "orig_nbformat": 4
 },
 "nbformat": 4,
 "nbformat_minor": 2
}

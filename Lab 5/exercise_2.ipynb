{
 "cells": [
  {
   "cell_type": "code",
   "execution_count": 2,
   "metadata": {},
   "outputs": [
    {
     "name": "stdout",
     "output_type": "stream",
     "text": [
      "Enter data for x and y:  \n",
      "\n",
      "FORWARD DIFFERENCE TABLE\n",
      "\n",
      "50.00\t\t9.00\t\t21.00\t\t-16.00\t\t18.00\n",
      "150.00\t\t30.00\t\t5.00\t\t2.00\n",
      "250.00\t\t35.00\t\t7.00\n",
      "350.00\t\t42.00\n",
      "\n",
      "THE INTERPOLATING POLYNOMIAL IS\n",
      "\n",
      "        3            2                    \n",
      "3.0e-6⋅t  - 0.00215⋅t  + 0.5425⋅t - 13.125\n",
      "\n",
      "The value of the function at 100.0 is\n",
      " 23 men\n"
     ]
    }
   ],
   "source": [
    "#FInd the number of men getting wage Rs. 100 from the following table:\n",
    "# wage:      50 150 250 350\n",
    "# No. of men: 9 30  35  42 \n",
    "from sympy import *\n",
    "import numpy as np\n",
    "n = int(input('Enter number of data points:  '))\n",
    "x = np.zeros((n))\n",
    "y = np.zeros((n, n))\n",
    "\n",
    "print('Enter data for x and y:  ')\n",
    "for i in range(n):\n",
    "    x[i] = float(input('x[' + str(i) + '] = '))\n",
    "    y[i][0] = float(input('y[' + str(i) + '] = '))\n",
    "\n",
    "for i in range(1, n):\n",
    "    for j in range(0, n - i):\n",
    "        y[j][i] = y[j + 1][i - 1] - y[j][i - 1]\n",
    "\n",
    "print('\\nFORWARD DIFFERENCE TABLE\\n');\n",
    "\n",
    "for i in range(0, n):\n",
    "    print('%0.2f' %(x[i]), end = '')\n",
    "    for j in range(0, n - i):\n",
    "        print('\\t\\t%0.2f' %(y[i][j]), end = '')\n",
    "    print()\n",
    "t = symbols('t')\n",
    "f = []\n",
    "\n",
    "p = (t - x[0])/(x[1] - x[0])\n",
    "f.append(p)\n",
    "for i in range(1, n - 1):\n",
    "    f.append(f[i - 1]*(p - i)/(i + 1))\n",
    "    poly = y[0][0]\n",
    "for i in range(n - 1):\n",
    "    poly = poly + y[0][i + 1]*f[i]\n",
    "simp_poly = simplify(poly)\n",
    "print('\\nTHE INTERPOLATING POLYNOMIAL IS\\n');\n",
    "pprint(simp_poly)\n",
    "inter = input('Do you want to interpolate at a point(y/n)?  ')\n",
    "if inter == 'y':\n",
    "    a = float(input('Enter the point  '))\n",
    "    interpol = lambdify(t, simp_poly)\n",
    "    result = interpol(a)\n",
    "    print('\\nThe value of the function at',a,'is\\n',round(result),'men');"
   ]
  }
 ],
 "metadata": {
  "kernelspec": {
   "display_name": "Python 3",
   "language": "python",
   "name": "python3"
  },
  "language_info": {
   "codemirror_mode": {
    "name": "ipython",
    "version": 3
   },
   "file_extension": ".py",
   "mimetype": "text/x-python",
   "name": "python",
   "nbconvert_exporter": "python",
   "pygments_lexer": "ipython3",
   "version": "3.11.4"
  },
  "orig_nbformat": 4
 },
 "nbformat": 4,
 "nbformat_minor": 2
}

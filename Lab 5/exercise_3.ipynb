{
 "cells": [
  {
   "cell_type": "code",
   "execution_count": 1,
   "metadata": {},
   "outputs": [
    {
     "name": "stdout",
     "output_type": "stream",
     "text": [
      "This will use Newton's backward interpolation formula  \n",
      "Enter data for x and y:  \n",
      "\n",
      "BACKWARD DIFFERENCE TABLE\n",
      "\n",
      "100.00\t\t10.00\n",
      "150.00\t\t13.00\t\t3.00\n",
      "200.00\t\t15.00\t\t2.00\t\t-1.00\n",
      "250.00\t\t17.00\t\t2.00\t\t0.00\t\t1.00\n",
      "300.00\t\t18.00\t\t1.00\t\t-1.00\t\t-1.00\t\t-2.00\n",
      "18.0\n",
      "\n",
      "THE INTERPOLATING POLYNOMIAL IS\n",
      "\n",
      "                       4                        3                        2    \n",
      "- 1.33333333333333e-8⋅t  + 1.06666666666667e-5⋅t  - 0.00316666666666667⋅t  + 0\n",
      "\n",
      "                         \n",
      ".453333333333333⋅t - 13.0\n",
      "\n",
      "The value of the function at 160.0 is\n",
      " 13.419200000000018\n"
     ]
    }
   ],
   "source": [
    "#Use Newtons backward interpolation method obtain y(160) for the following data\n",
    "# x: 100   150   200    250   300\n",
    "# y: 10     13    15     17    18\n",
    "from sympy import *\n",
    "import numpy as np\n",
    "import sys\n",
    "print(\"This will use Newton's backward interpolation formula  \")\n",
    "n = int(input('Enter number of data points:  '))\n",
    "x = np.zeros((n))\n",
    "y = np.zeros((n, n))\n",
    "\n",
    "print('Enter data for x and y:  ')\n",
    "for i in range(n):\n",
    "    x[i] = float(input('x[' + str(i) + '] = '))\n",
    "    y[i][0] = float(input('y[' + str(i) + '] = '))\n",
    "\n",
    "for i in range(1, n):\n",
    "    for j in range(n - 1, i - 2, -1):\n",
    "        y[j][i] = y[j][i - 1] - y[j - 1][i - 1]\n",
    "\n",
    "print('\\nBACKWARD DIFFERENCE TABLE\\n');\n",
    "\n",
    "for i in range(0, n):\n",
    "    print('%0.2f' %(x[i]), end = '')\n",
    "    for j in range(0, i + 1):\n",
    "        print('\\t\\t%0.2f' %(y[i][j]), end = '')\n",
    "    print()\n",
    "t = symbols('t')\n",
    "f = []\n",
    "\n",
    "p = (t - x[n -1])/(x[1] - x[0])\n",
    "f.append(p)\n",
    "for i in range(1, n - 1):\n",
    "    f.append(f[i - 1]*(p + i)/(i + 1))\n",
    "poly = y[n - 1][0]\n",
    "print(poly)\n",
    "for i in range(n - 1):\n",
    "    poly = poly + y[n - 1][i + 1]*f[i]\n",
    "    simp_poly = simplify(poly)\n",
    "print('\\nTHE INTERPOLATING POLYNOMIAL IS\\n');\n",
    "pprint(simp_poly)\n",
    "inter = input('Do you want to interpolate at a point(y/n)?  ')\n",
    "if inter == 'y':\n",
    "    a = float(input('Enter the point  '))\n",
    "    interpol = lambdify(t, simp_poly)\n",
    "    result = interpol(a)\n",
    "    print('\\nThe value of the function at',a,'is\\n',result);"
   ]
  }
 ],
 "metadata": {
  "kernelspec": {
   "display_name": "Python 3",
   "language": "python",
   "name": "python3"
  },
  "language_info": {
   "codemirror_mode": {
    "name": "ipython",
    "version": 3
   },
   "file_extension": ".py",
   "mimetype": "text/x-python",
   "name": "python",
   "nbconvert_exporter": "python",
   "pygments_lexer": "ipython3",
   "version": "3.11.4"
  },
  "orig_nbformat": 4
 },
 "nbformat": 4,
 "nbformat_minor": 2
}

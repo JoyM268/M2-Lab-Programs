{
 "cells": [
  {
   "cell_type": "code",
   "execution_count": 8,
   "metadata": {},
   "outputs": [],
   "source": [
    "# Apply Milne's predictor and corrector method to solve dy/dx = x - y^2, y(0) =2\n",
    "# obtain y(0.8). Take h = 0.2. Use Runge - Kutta method to calculate required initial values"
   ]
  },
  {
   "cell_type": "code",
   "execution_count": 9,
   "metadata": {},
   "outputs": [],
   "source": [
    "from sympy import *\n",
    "import numpy as np\n",
    "def RungeKutta(g, x0, h, y0, xn):\n",
    "    x, y = symbols('x,y')\n",
    "    f = lambdify([x, y], g)\n",
    "    xt = x0 + h\n",
    "    Y = [y0]\n",
    "    while xt <= xn:\n",
    "        k1 = h*f(x0, y0)\n",
    "        k2 = h*f(x0 +h/2, y0 + k1/2)\n",
    "        k3 = h*f(x0 + h/2, y0 + k2/2)\n",
    "        k4 = h *f(x0 + h, y0 + k3)\n",
    "        y1 = y0 + (1/6) * (k1 + 2*k2 + 2*k3 + k4)\n",
    "        Y.append(y1)\n",
    "        x0 = xt\n",
    "        y0 = y1\n",
    "        xt = xt + h\n",
    "    return np.round(Y,2)"
   ]
  },
  {
   "cell_type": "code",
   "execution_count": 10,
   "metadata": {},
   "outputs": [],
   "source": [
    "def Milne(g, x0, h, y0, y1, y2, y3):\n",
    "    x, y = symbols('x, y')\n",
    "    f = lambdify([x, y], g)\n",
    "    x1 = x0 + h\n",
    "    x2 = x1 + h\n",
    "    x3 = x2 + h\n",
    "    x4 = x3 + h\n",
    "    y10 = f(x0, y0)\n",
    "    y11 = f(x1, y1)\n",
    "    y12 = f(x2, y2)\n",
    "    y13 = f(x3, y3)\n",
    "    y4p = y0 + (4 *h/3) * (2*y11 - y12 + 2 * y13)\n",
    "    print('predicted value of y4', y4p)\n",
    "    y14 = f(x4, y4p)\n",
    "    for i in range(1, 4):\n",
    "        y4 = y2 + (h/3) *(y14 + 4 * y13 + y12)\n",
    "        print('corrected value of y4 , iteration %d '%i, y4)\n",
    "        y14 = f(x4, y4)"
   ]
  },
  {
   "cell_type": "code",
   "execution_count": 11,
   "metadata": {},
   "outputs": [
    {
     "name": "stdout",
     "output_type": "stream",
     "text": [
      "y values from Runge  - Kutta method: [0.   0.02 0.08 0.18 0.3 ]\n",
      "predicted value of y4 0.3042133333333334\n",
      "corrected value of y4 , iteration 1  0.3047636165214815\n",
      "corrected value of y4 , iteration 2  0.3047412758696499\n",
      "corrected value of y4 , iteration 3  0.3047421836520892\n"
     ]
    }
   ],
   "source": [
    "Y = RungeKutta('x - y**2', 0, 0.2, 0, 0.8)\n",
    "print('y values from Runge  - Kutta method:', Y)\n",
    "Milne('x - y**2', 0, 0.2, Y[0], Y[1], Y[2], Y[3])"
   ]
  }
 ],
 "metadata": {
  "kernelspec": {
   "display_name": "Python 3",
   "language": "python",
   "name": "python3"
  },
  "language_info": {
   "codemirror_mode": {
    "name": "ipython",
    "version": 3
   },
   "file_extension": ".py",
   "mimetype": "text/x-python",
   "name": "python",
   "nbconvert_exporter": "python",
   "pygments_lexer": "ipython3",
   "version": "3.11.4"
  },
  "orig_nbformat": 4
 },
 "nbformat": 4,
 "nbformat_minor": 2
}

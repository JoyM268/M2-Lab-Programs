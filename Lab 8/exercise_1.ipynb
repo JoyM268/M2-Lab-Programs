{
 "cells": [
  {
   "cell_type": "code",
   "execution_count": 1,
   "metadata": {},
   "outputs": [
    {
     "data": {
      "text/plain": [
       "array([1.     , 0.91379])"
      ]
     },
     "execution_count": 1,
     "metadata": {},
     "output_type": "execute_result"
    }
   ],
   "source": [
    "# Find y(0.1) by runge Kutta method when y' = x - y^2, y(0) = 1.\n",
    "from sympy import *\n",
    "import numpy as np\n",
    "def RungeKutta(g, x0, h, y0, xn):\n",
    "    x, y = symbols('x,y')\n",
    "    f = lambdify([x, y], g)\n",
    "    xt = x0 + h\n",
    "    Y = [y0]\n",
    "    while xt <= xn:\n",
    "        k1 = h*f(x0, y0)\n",
    "        k2 = h*f(x0 +h/2, y0 + k1/2)\n",
    "        k3 = h*f(x0 + h/2, y0 + k2/2)\n",
    "        k4 = h *f(x0 + h, y0 + k3)\n",
    "        y1 = y0 + (1/6) * (k1 + 2*k2 + 2*k3 + k4)\n",
    "        Y.append(y1)\n",
    "        x0 = xt\n",
    "        y0 = y1\n",
    "        xt = xt + h\n",
    "    return np.round(Y,5)\n",
    "RungeKutta('x - y**2', 0, 0.1, 1, 0.1)"
   ]
  }
 ],
 "metadata": {
  "kernelspec": {
   "display_name": "Python 3",
   "language": "python",
   "name": "python3"
  },
  "language_info": {
   "codemirror_mode": {
    "name": "ipython",
    "version": 3
   },
   "file_extension": ".py",
   "mimetype": "text/x-python",
   "name": "python",
   "nbconvert_exporter": "python",
   "pygments_lexer": "ipython3",
   "version": "3.11.4"
  },
  "orig_nbformat": 4
 },
 "nbformat": 4,
 "nbformat_minor": 2
}

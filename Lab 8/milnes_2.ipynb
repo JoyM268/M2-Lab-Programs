{
 "cells": [
  {
   "cell_type": "code",
   "execution_count": 1,
   "metadata": {},
   "outputs": [
    {
     "name": "stdout",
     "output_type": "stream",
     "text": [
      "predicted value of y4 3.0792733333333335\n",
      "corrected value of y4 , iteration 1  3.0793962222222224\n",
      "corrected value of y4 , iteration 2  3.079398270370371\n",
      "corrected value of y4 , iteration 3  3.079398304506173\n"
     ]
    }
   ],
   "source": [
    "#Apply Milne's predictor and corrector method to solve dy/dx = x^3 + (y/2) at y(1.4).\n",
    "#Given that y(1) = 2, y(1.1) = 2.2156, y(1.2) = 2.4649, y(1.3) = 2.7514.\n",
    "from sympy import *\n",
    "def Milne(g, x0, h, y0, y1, y2, y3):\n",
    "    x, y = symbols('x, y')\n",
    "    f = lambdify([x, y], g)\n",
    "    x1 = x0 + h\n",
    "    x2 = x1 + h\n",
    "    x3 = x2 + h\n",
    "    x4 = x3 + h\n",
    "    y10 = f(x0, y0)\n",
    "    y11 = f(x1, y1)\n",
    "    y12 = f(x2, y2)\n",
    "    y13 = f(x3, y3)\n",
    "    y4p = y0 + (4 *h/3) * (2*y11 - y12 + 2 * y13)\n",
    "    print('predicted value of y4', y4p)\n",
    "    y14 = f(x4, y4p)\n",
    "    for i in range(1, 4):\n",
    "        y4 = y2 + (h/3) *(y14 + 4 * y13 + y12)\n",
    "        print('corrected value of y4 , iteration %d '%i, y4)\n",
    "        y14 = f(x4, y4)\n",
    "Milne('x**2 + y/2', 1, 0.1, 2, 2.2156, 2.4649, 2.7514)"
   ]
  }
 ],
 "metadata": {
  "kernelspec": {
   "display_name": "Python 3",
   "language": "python",
   "name": "python3"
  },
  "language_info": {
   "codemirror_mode": {
    "name": "ipython",
    "version": 3
   },
   "file_extension": ".py",
   "mimetype": "text/x-python",
   "name": "python",
   "nbconvert_exporter": "python",
   "pygments_lexer": "ipython3",
   "version": "3.11.4"
  },
  "orig_nbformat": 4
 },
 "nbformat": 4,
 "nbformat_minor": 2
}

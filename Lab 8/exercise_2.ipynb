{
 "cells": [
  {
   "cell_type": "code",
   "execution_count": 1,
   "metadata": {},
   "outputs": [
    {
     "data": {
      "text/plain": [
       "array([2.   , 2.155, 2.342, 2.558, 2.801])"
      ]
     },
     "execution_count": 1,
     "metadata": {},
     "output_type": "execute_result"
    }
   ],
   "source": [
    "# Evaluate by Runge Kutta method: y' = log(x + y), y(0) == 2 at x = 0, h = 0.2 find at 0.8 \n",
    "from sympy import *\n",
    "import numpy as np\n",
    "def RungeKutta(g, x0, h, y0, xn):\n",
    "    x, y = symbols('x,y')\n",
    "    f = lambdify([x, y], g)\n",
    "    xt = x0 + h\n",
    "    Y = [y0]\n",
    "    while xt <= xn:\n",
    "        k1 = h*f(x0, y0)\n",
    "        k2 = h*f(x0 +h/2, y0 + k1/2)\n",
    "        k3 = h*f(x0 + h/2, y0 + k2/2)\n",
    "        k4 = h *f(x0 + h, y0 + k3)\n",
    "        y1 = y0 + (1/6) * (k1 + 2*k2 + 2*k3 + k4)\n",
    "        Y.append(y1)\n",
    "        x0 = xt\n",
    "        y0 = y1\n",
    "        xt = xt + h\n",
    "    return np.round(Y,3)\n",
    "RungeKutta('log(x+ y)', 0, 0.2, 2, 0.8)"
   ]
  }
 ],
 "metadata": {
  "kernelspec": {
   "display_name": "Python 3",
   "language": "python",
   "name": "python3"
  },
  "language_info": {
   "codemirror_mode": {
    "name": "ipython",
    "version": 3
   },
   "file_extension": ".py",
   "mimetype": "text/x-python",
   "name": "python",
   "nbconvert_exporter": "python",
   "pygments_lexer": "ipython3",
   "version": "3.11.4"
  },
  "orig_nbformat": 4
 },
 "nbformat": 4,
 "nbformat_minor": 2
}

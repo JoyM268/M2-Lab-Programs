{
 "cells": [
  {
   "cell_type": "code",
   "execution_count": 1,
   "metadata": {},
   "outputs": [
    {
     "name": "stdout",
     "output_type": "stream",
     "text": [
      "124 118\n",
      "118 6\n",
      "6 4\n",
      "4 2\n",
      "2 0\n",
      "GCD =  2\n"
     ]
    }
   ],
   "source": [
    "def gcd1(a, b):\n",
    "    c = 1\n",
    "    if b < a:\n",
    "        t = b\n",
    "        b = a\n",
    "        a = t\n",
    "    while (c > 0):\n",
    "        c = b%a\n",
    "        print(a, c)\n",
    "        b = a\n",
    "        a = c\n",
    "    print('GCD = ', b)\n",
    "gcd1(614,124)"
   ]
  }
 ],
 "metadata": {
  "kernelspec": {
   "display_name": "Python 3",
   "language": "python",
   "name": "python3"
  },
  "language_info": {
   "codemirror_mode": {
    "name": "ipython",
    "version": 3
   },
   "file_extension": ".py",
   "mimetype": "text/x-python",
   "name": "python",
   "nbconvert_exporter": "python",
   "pygments_lexer": "ipython3",
   "version": "3.11.3"
  },
  "orig_nbformat": 4
 },
 "nbformat": 4,
 "nbformat_minor": 2
}

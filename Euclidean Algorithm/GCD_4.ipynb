{
 "cells": [
  {
   "cell_type": "code",
   "execution_count": 3,
   "metadata": {},
   "outputs": [
    {
     "name": "stdout",
     "output_type": "stream",
     "text": [
      "the GCD of  76 and 13 is 1\n",
      "76 x 6 + 13 x -35 = 1\n",
      "\n"
     ]
    }
   ],
   "source": [
    "from sympy import *\n",
    "a = int(input('enter the first number: '))\n",
    "b = int(input('enter the second number: '))\n",
    "s1 = 1;\n",
    "s2 = 0;\n",
    "t1 = 0;\n",
    "t2 = 1;\n",
    "r1 = a;\n",
    "r2 = b;\n",
    "r3 = (r1 % r2);\n",
    "q = (r1 - r3)/r2;\n",
    "s3 = s1 - s2*(q);\n",
    "t3 = t1 - t2 * q;\n",
    "\n",
    "while(r3 != 0):\n",
    "    r1 = r2;\n",
    "    r2 = r3;\n",
    "    s1 = s2;\n",
    "    s2 = s3;\n",
    "    t1 = t2;\n",
    "    t2 = t3;\n",
    "    r3 = (r1 % r2);\n",
    "    q = (r1 - r3)/r2;\n",
    "    s3 = s1 - s2 *(q);\n",
    "    t3 = t1 - t2 * q;\n",
    "print('the GCD of ',a,'and',b,'is',r2);\n",
    "print('%d x %d + %d x %d = %d\\n' %(a,s2,b,t2,r2));"
   ]
  }
 ],
 "metadata": {
  "kernelspec": {
   "display_name": "Python 3",
   "language": "python",
   "name": "python3"
  },
  "language_info": {
   "codemirror_mode": {
    "name": "ipython",
    "version": 3
   },
   "file_extension": ".py",
   "mimetype": "text/x-python",
   "name": "python",
   "nbconvert_exporter": "python",
   "pygments_lexer": "ipython3",
   "version": "3.11.3"
  },
  "orig_nbformat": 4
 },
 "nbformat": 4,
 "nbformat_minor": 2
}

{
 "cells": [
  {
   "cell_type": "code",
   "execution_count": 2,
   "metadata": {},
   "outputs": [
    {
     "name": "stdout",
     "output_type": "stream",
     "text": [
      "163 23\n",
      "23 2\n",
      "2 1\n",
      "1 0\n",
      "GCD =  1\n"
     ]
    }
   ],
   "source": [
    "def gcd1(a, b):\n",
    "    c = 1\n",
    "    if b < a:\n",
    "        t = b\n",
    "        b = a\n",
    "        a = t\n",
    "    while (c > 0):\n",
    "        c = b%a\n",
    "        print(a, c)\n",
    "        b = a\n",
    "        a = c\n",
    "    print('GCD = ', b)\n",
    "gcd1(163,512)"
   ]
  }
 ],
 "metadata": {
  "kernelspec": {
   "display_name": "Python 3",
   "language": "python",
   "name": "python3"
  },
  "language_info": {
   "codemirror_mode": {
    "name": "ipython",
    "version": 3
   },
   "file_extension": ".py",
   "mimetype": "text/x-python",
   "name": "python",
   "nbconvert_exporter": "python",
   "pygments_lexer": "ipython3",
   "version": "3.11.3"
  },
  "orig_nbformat": 4
 },
 "nbformat": 4,
 "nbformat_minor": 2
}
